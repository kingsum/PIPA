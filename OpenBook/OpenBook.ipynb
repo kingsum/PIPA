{
 "cells": [
  {
   "cell_type": "code",
   "execution_count": null,
   "metadata": {},
   "outputs": [],
   "source": []
  }
 ],
 "metadata": {
  "kernelspec": {
   "display_name": "Python 3.9.7 ('base')",
   "language": "python",
   "name": "python3"
  },
  "language_info": {
   "name": "python",
   "version": "3.9.7"
  },
  "orig_nbformat": 4,
  "vscode": {
   "interpreter": {
    "hash": "10b3ab5e30417bc96bce0b32fd4761cbf01b0c833f80bf662b8a11b418e2023e"
   }
  }
 },
 "nbformat": 4,
 "nbformat_minor": 2
}
